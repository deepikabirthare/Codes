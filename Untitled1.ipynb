{
  "nbformat": 4,
  "nbformat_minor": 0,
  "metadata": {
    "colab": {
      "name": "Untitled1.ipynb",
      "provenance": [],
      "authorship_tag": "ABX9TyNeTvGDeZifhI7DlHxTtGuo",
      "include_colab_link": true
    },
    "kernelspec": {
      "name": "python3",
      "display_name": "Python 3"
    }
  },
  "cells": [
    {
      "cell_type": "markdown",
      "metadata": {
        "id": "view-in-github",
        "colab_type": "text"
      },
      "source": [
        "<a href=\"https://colab.research.google.com/github/deepikabirthare/Codes/blob/main/Untitled1.ipynb\" target=\"_parent\"><img src=\"https://colab.research.google.com/assets/colab-badge.svg\" alt=\"Open In Colab\"/></a>"
      ]
    },
    {
      "cell_type": "code",
      "metadata": {
        "id": "ygxCfFkU354Q",
        "colab": {
          "base_uri": "https://localhost:8080/",
          "height": 700
        },
        "outputId": "127b45b0-2e17-405e-a5e7-a9ee4c489ac4"
      },
      "source": [
        "import numpy as np\r\n",
        "import pandas as pd\r\n",
        "import matplotlib.pyplot as plot\r\n",
        "from random import uniform\r\n",
        "\r\n",
        "def findClosest(x, y, cluster_x, cluster_y):\r\n",
        "\tmin = 100000000.00000\r\n",
        "\tmini = -1\r\n",
        "\tfor i in range(len(cluster_x)):\r\n",
        "\t\tdist = (abs(x-cluster_x[i]) + abs(y-cluster_y[i]))\r\n",
        "\t\t# print(\"Dist - \"+str(dist))\r\n",
        "\t\tif(dist < min):\r\n",
        "\t\t\tmin = dist\r\n",
        "\t\t\tmini = i\r\n",
        "\t# print(\"Min - \"+str(min))\r\n",
        "\t# print(\"Index\" + str(mini))\r\n",
        "\treturn mini\r\n",
        "\r\n",
        "\r\n",
        "plot.rcParams['figure.figsize'] = (12.0, 12.0)\r\n",
        "#data = pd.read_csv(\"test_data.csv\")\r\n",
        "import urllib.request\r\n",
        "urllib.request.urlretrieve(\"https://raw.githubusercontent.com/CC-MNNIT/2018-19-Classes/master/MachineLearning/2018_08_22_Logical-Rhythm-2/data.csv\", \"data.csv\")\r\n",
        "data = pd.read_csv('data.csv')\r\n",
        "X = data.iloc[:,0]\r\n",
        "Y = data.iloc[:,1]\r\n",
        "\r\n",
        "\r\n",
        "X_1 = []\r\n",
        "Y_1 = []\r\n",
        "\r\n",
        "max_x = 0\r\n",
        "max_y = 0\r\n",
        "\r\n",
        "for i in X:\r\n",
        "\tif(max_x < i):\r\n",
        "\t\tmax_x = i\r\n",
        "\r\n",
        "for i in X:\r\n",
        "\tX_1.append(i/max_x)\r\n",
        "\r\n",
        "\r\n",
        "for i in Y:\r\n",
        "\tif(max_y < i):\r\n",
        "\t\tmax_y = i\r\n",
        "\r\n",
        "for i in Y:\r\n",
        "\tY_1.append(i/max_y)\r\n",
        "\r\n",
        "k_cluster = 3\r\n",
        "\r\n",
        "colors = [\"#000aaa\", \"#fff000\", \"#aaaaaa\", \"#123456\"]\r\n",
        "\r\n",
        "cluster_rand_x = []\r\n",
        "cluster_rand_y = []\r\n",
        "prev_cluster_rand_x = []\r\n",
        "prev_cluster_rand_y = []\r\n",
        "for i in range(k_cluster):\r\n",
        "\tcluster_rand_x.append(uniform(0.6, 1))\r\n",
        "\tcluster_rand_y.append(uniform(0.3, 1))\r\n",
        "\r\n",
        "clusters_x = [[] for i in range(k_cluster)]\r\n",
        "clusters_y = [[] for i in range(k_cluster)]\r\n",
        "\r\n",
        "for test in range(300):\r\n",
        "\tprev_cluster_rand_x = cluster_rand_x\r\n",
        "\tprev_cluster_rand_y = cluster_rand_y\r\n",
        "\tfor i in range(k_cluster):\r\n",
        "\t\tclusters_x[i].clear()\r\n",
        "\t\tclusters_y[i].clear()\r\n",
        "\tfor i in range(len(X_1)):\r\n",
        "\t\tval = findClosest(X_1[i], Y_1[i], cluster_rand_x, cluster_rand_y)\r\n",
        "\t\tclusters_x[val].append(X_1[i])\r\n",
        "\t\tclusters_y[val].append(Y_1[i])\r\n",
        "\tfor lamp in range(k_cluster):\r\n",
        "\t\tif(len(clusters_x[lamp]) != 0):\r\n",
        "\t\t\tavg = 0\r\n",
        "\t\t\tfor x in clusters_x[lamp]:\r\n",
        "\t\t\t\tavg+=x\r\n",
        "\t\t\tavg /= len(clusters_x[lamp])\r\n",
        "\t\t\tcluster_rand_x[lamp] = avg\r\n",
        "\t\telse:\r\n",
        "\t\t\tcluster_rand_x[lamp] = uniform(0.6, 1)\r\n",
        "\r\n",
        "\t\tif(len(clusters_y[lamp]) != 0):\r\n",
        "\t\t\tavg = 0\r\n",
        "\t\t\tfor y in clusters_y[lamp]:\r\n",
        "\t\t\t\tavg+=y\r\n",
        "\t\t\tavg /= len(clusters_y[lamp])\r\n",
        "\t\t\tcluster_rand_y[lamp] = avg\r\n",
        "\t\telse:\r\n",
        "\t\t\tcluster_rand_y[lamp] = uniform(0.3, 1)\r\n",
        "\r\n",
        "plot.scatter(cluster_rand_x, cluster_rand_y, color = \"#11dddd\")\r\n",
        "for lamp in range(k_cluster):\r\n",
        "\tplot.scatter(clusters_x[lamp], clusters_y[lamp], color = colors[lamp])\r\n",
        "plot.show()\r\n",
        "\r\n",
        "\r\n",
        "\r\n",
        "# plot.scatter(cluster_x, cluster_y, color=\"#000000\")\r\n",
        "# plot.scatter(cluster1_x, cluster1_y, color = \"r\")\r\n",
        "# plot.scatter(cluster2_x, cluster2_y, color = \"g\")\r\n",
        "# plot.scatter(cluster3_x, cluster3_y, color = \"b\")\r\n",
        "# plot.show()"
      ],
      "execution_count": 2,
      "outputs": [
        {
          "output_type": "display_data",
          "data": {
            "image/png": "[encoded data removed]",
            "text/plain": [
              "<Figure size 864x864 with 1 Axes>"
            ]
          },
          "metadata": {
            "tags": [],
            "needs_background": "light"
          }
        }
      ]
    }
  ]
}